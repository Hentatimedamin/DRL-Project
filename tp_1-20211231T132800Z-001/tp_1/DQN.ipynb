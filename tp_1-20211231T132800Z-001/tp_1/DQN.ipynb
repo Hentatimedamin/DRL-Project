{
 "cells": [
  {
   "cell_type": "markdown",
   "metadata": {
    "id": "Vb7G3Jgnnazh"
   },
   "source": [
    "# Deep Q-Network"
   ]
  },
  {
   "cell_type": "markdown",
   "metadata": {
    "id": "cRM8qFynnazk"
   },
   "source": [
    "In this notebook, you will implement a DQN agent with OpenAI Gym's LunarLander-v2 environment."
   ]
  },
  {
   "cell_type": "code",
   "execution_count": 14,
   "metadata": {
    "id": "WEWBQn--nazm",
    "outputId": "2e4e1dc5-74f6-478e-cb1b-fc77e6f5eab6"
   },
   "outputs": [
    {
     "name": "stdout",
     "output_type": "stream",
     "text": [
      "Requirement already satisfied: torch in /home/med/anaconda3/lib/python3.9/site-packages (1.10.1)\r\n",
      "Requirement already satisfied: typing-extensions in /home/med/anaconda3/lib/python3.9/site-packages (from torch) (3.10.0.2)\r\n"
     ]
    }
   ],
   "source": [
    "!pip install torch"
   ]
  },
  {
   "cell_type": "code",
   "execution_count": 28,
   "metadata": {
    "id": "RiRfA3Ponazp",
    "outputId": "c1bc7f0a-a44e-4226-9bfb-f2967f4df0d8"
   },
   "outputs": [
    {
     "name": "stdout",
     "output_type": "stream",
     "text": [
      "Requirement already satisfied: Box2D in /home/med/anaconda3/lib/python3.9/site-packages (2.3.2)\n",
      "Collecting box2d-py\n",
      "  Using cached box2d-py-2.3.8.tar.gz (374 kB)\n",
      "Building wheels for collected packages: box2d-py\n",
      "  Building wheel for box2d-py (setup.py) ... \u001b[?25ldone\n",
      "\u001b[?25h  Created wheel for box2d-py: filename=box2d_py-2.3.8-cp39-cp39-linux_x86_64.whl size=496351 sha256=1c3c62a202283ab5d6b024fa6eab1a8dfed206761181aaad5c82859882c92001\n",
      "  Stored in directory: /home/med/.cache/pip/wheels/a0/6a/54/2383a12859109612796c6b235ff6704a82b99caa4308ca0b43\n",
      "Successfully built box2d-py\n",
      "Installing collected packages: box2d-py\n",
      "Successfully installed box2d-py-2.3.8\n",
      "Requirement already satisfied: gym[all] in /home/med/anaconda3/lib/python3.9/site-packages (0.21.0)\n",
      "Requirement already satisfied: numpy>=1.18.0 in /home/med/anaconda3/lib/python3.9/site-packages (from gym[all]) (1.20.3)\n",
      "Requirement already satisfied: cloudpickle>=1.2.0 in /home/med/anaconda3/lib/python3.9/site-packages (from gym[all]) (2.0.0)\n",
      "Collecting box2d-py==2.3.5\n",
      "  Using cached box2d-py-2.3.5.tar.gz (374 kB)\n",
      "Requirement already satisfied: scipy>=1.4.1 in /home/med/anaconda3/lib/python3.9/site-packages (from gym[all]) (1.7.1)\n",
      "Collecting ale-py~=0.7.1\n",
      "  Using cached ale_py-0.7.3-cp39-cp39-manylinux_2_17_x86_64.manylinux2014_x86_64.whl (1.6 MB)\n",
      "Requirement already satisfied: opencv-python>=3. in /home/med/anaconda3/lib/python3.9/site-packages (from gym[all]) (4.5.5.62)\n",
      "Collecting mujoco-py<2.0,>=1.50\n",
      "  Using cached mujoco-py-1.50.1.68.tar.gz (120 kB)\n",
      "Requirement already satisfied: pyglet>=1.4.0 in /home/med/anaconda3/lib/python3.9/site-packages (from gym[all]) (1.5.21)\n",
      "Collecting lz4>=3.1.0\n",
      "  Using cached lz4-3.1.10-cp39-cp39-manylinux2010_x86_64.whl (1.8 MB)\n",
      "Requirement already satisfied: importlib-resources in /home/med/anaconda3/lib/python3.9/site-packages (from ale-py~=0.7.1->gym[all]) (5.4.0)\n",
      "Requirement already satisfied: glfw>=1.4.0 in /home/med/anaconda3/lib/python3.9/site-packages (from mujoco-py<2.0,>=1.50->gym[all]) (2.5.0)\n",
      "Requirement already satisfied: Cython>=0.27.2 in /home/med/anaconda3/lib/python3.9/site-packages (from mujoco-py<2.0,>=1.50->gym[all]) (0.29.24)\n",
      "Requirement already satisfied: imageio>=2.1.2 in /home/med/anaconda3/lib/python3.9/site-packages (from mujoco-py<2.0,>=1.50->gym[all]) (2.9.0)\n",
      "Requirement already satisfied: cffi>=1.10 in /home/med/anaconda3/lib/python3.9/site-packages (from mujoco-py<2.0,>=1.50->gym[all]) (1.14.6)\n",
      "Requirement already satisfied: lockfile>=0.12.2 in /home/med/anaconda3/lib/python3.9/site-packages (from mujoco-py<2.0,>=1.50->gym[all]) (0.12.2)\n",
      "Requirement already satisfied: pycparser in /home/med/anaconda3/lib/python3.9/site-packages (from cffi>=1.10->mujoco-py<2.0,>=1.50->gym[all]) (2.20)\n",
      "Requirement already satisfied: pillow in /home/med/anaconda3/lib/python3.9/site-packages (from imageio>=2.1.2->mujoco-py<2.0,>=1.50->gym[all]) (8.4.0)\n",
      "Requirement already satisfied: zipp>=3.1.0 in /home/med/anaconda3/lib/python3.9/site-packages (from importlib-resources->ale-py~=0.7.1->gym[all]) (3.6.0)\n",
      "Building wheels for collected packages: box2d-py, mujoco-py\n",
      "  Building wheel for box2d-py (setup.py) ... \u001b[?25ldone\n",
      "\u001b[?25h  Created wheel for box2d-py: filename=box2d_py-2.3.5-cp39-cp39-linux_x86_64.whl size=496350 sha256=b8b7ccae43aefecaaa62c4d7ed53e79f59598ab780deb0c08790236c778c875d\n",
      "  Stored in directory: /home/med/.cache/pip/wheels/a4/c2/c1/076651c394f05fe60990cd85616c2d95bc1619aa113f559d7d\n",
      "  Building wheel for mujoco-py (setup.py) ... \u001b[?25lerror\n",
      "\u001b[31m  ERROR: Command errored out with exit status 1:\n",
      "   command: /home/med/anaconda3/bin/python -u -c 'import io, os, sys, setuptools, tokenize; sys.argv[0] = '\"'\"'/tmp/pip-install-zvjbxcrr/mujoco-py_61e2cb154b8a41e0be08a6d5b1c95863/setup.py'\"'\"'; __file__='\"'\"'/tmp/pip-install-zvjbxcrr/mujoco-py_61e2cb154b8a41e0be08a6d5b1c95863/setup.py'\"'\"';f = getattr(tokenize, '\"'\"'open'\"'\"', open)(__file__) if os.path.exists(__file__) else io.StringIO('\"'\"'from setuptools import setup; setup()'\"'\"');code = f.read().replace('\"'\"'\\r\\n'\"'\"', '\"'\"'\\n'\"'\"');f.close();exec(compile(code, __file__, '\"'\"'exec'\"'\"'))' bdist_wheel -d /tmp/pip-wheel-6l_3_exb\n",
      "       cwd: /tmp/pip-install-zvjbxcrr/mujoco-py_61e2cb154b8a41e0be08a6d5b1c95863/\n",
      "  Complete output (54 lines):\n",
      "  running bdist_wheel\n",
      "  running build\n",
      "  \n",
      "  You appear to be missing MuJoCo.  We expected to find the file here: /home/med/.mujoco/mjpro150\n",
      "  \n",
      "  This package only provides python bindings, the library must be installed separately.\n",
      "  \n",
      "  Please follow the instructions on the README to install MuJoCo\n",
      "  \n",
      "      https://github.com/openai/mujoco-py#install-mujoco\n",
      "  \n",
      "  Which can be downloaded from the website\n",
      "  \n",
      "      https://www.roboti.us/index.html\n",
      "  \n",
      "  Traceback (most recent call last):\n",
      "    File \"<string>\", line 1, in <module>\n",
      "    File \"/tmp/pip-install-zvjbxcrr/mujoco-py_61e2cb154b8a41e0be08a6d5b1c95863/setup.py\", line 32, in <module>\n",
      "      setup(\n",
      "    File \"/home/med/anaconda3/lib/python3.9/site-packages/setuptools/__init__.py\", line 153, in setup\n",
      "      return distutils.core.setup(**attrs)\n",
      "    File \"/home/med/anaconda3/lib/python3.9/distutils/core.py\", line 148, in setup\n",
      "      dist.run_commands()\n",
      "    File \"/home/med/anaconda3/lib/python3.9/distutils/dist.py\", line 966, in run_commands\n",
      "      self.run_command(cmd)\n",
      "    File \"/home/med/anaconda3/lib/python3.9/distutils/dist.py\", line 985, in run_command\n",
      "      cmd_obj.run()\n",
      "    File \"/home/med/anaconda3/lib/python3.9/site-packages/wheel/bdist_wheel.py\", line 299, in run\n",
      "      self.run_command('build')\n",
      "    File \"/home/med/anaconda3/lib/python3.9/distutils/cmd.py\", line 313, in run_command\n",
      "      self.distribution.run_command(command)\n",
      "    File \"/home/med/anaconda3/lib/python3.9/distutils/dist.py\", line 985, in run_command\n",
      "      cmd_obj.run()\n",
      "    File \"/tmp/pip-install-zvjbxcrr/mujoco-py_61e2cb154b8a41e0be08a6d5b1c95863/setup.py\", line 28, in run\n",
      "      import mujoco_py  # noqa: force build\n",
      "    File \"/tmp/pip-install-zvjbxcrr/mujoco-py_61e2cb154b8a41e0be08a6d5b1c95863/mujoco_py/__init__.py\", line 3, in <module>\n",
      "      from mujoco_py.builder import cymj, ignore_mujoco_warnings, functions, MujocoException\n",
      "    File \"/tmp/pip-install-zvjbxcrr/mujoco-py_61e2cb154b8a41e0be08a6d5b1c95863/mujoco_py/builder.py\", line 502, in <module>\n",
      "      mjpro_path, key_path = discover_mujoco()\n",
      "    File \"/tmp/pip-install-zvjbxcrr/mujoco-py_61e2cb154b8a41e0be08a6d5b1c95863/mujoco_py/utils.py\", line 93, in discover_mujoco\n",
      "      raise Exception(message)\n",
      "  Exception:\n",
      "  You appear to be missing MuJoCo.  We expected to find the file here: /home/med/.mujoco/mjpro150\n",
      "  \n",
      "  This package only provides python bindings, the library must be installed separately.\n",
      "  \n",
      "  Please follow the instructions on the README to install MuJoCo\n",
      "  \n",
      "      https://github.com/openai/mujoco-py#install-mujoco\n",
      "  \n",
      "  Which can be downloaded from the website\n",
      "  \n",
      "      https://www.roboti.us/index.html\n",
      "  \n",
      "  ----------------------------------------\u001b[0m\n",
      "\u001b[31m  ERROR: Failed building wheel for mujoco-py\u001b[0m\n",
      "\u001b[?25h  Running setup.py clean for mujoco-py\n",
      "Successfully built box2d-py\n",
      "Failed to build mujoco-py\n",
      "Installing collected packages: mujoco-py, lz4, box2d-py, ale-py\n",
      "    Running setup.py install for mujoco-py ... \u001b[?25lerror\n",
      "\u001b[31m    ERROR: Command errored out with exit status 1:\n",
      "     command: /home/med/anaconda3/bin/python -u -c 'import io, os, sys, setuptools, tokenize; sys.argv[0] = '\"'\"'/tmp/pip-install-zvjbxcrr/mujoco-py_61e2cb154b8a41e0be08a6d5b1c95863/setup.py'\"'\"'; __file__='\"'\"'/tmp/pip-install-zvjbxcrr/mujoco-py_61e2cb154b8a41e0be08a6d5b1c95863/setup.py'\"'\"';f = getattr(tokenize, '\"'\"'open'\"'\"', open)(__file__) if os.path.exists(__file__) else io.StringIO('\"'\"'from setuptools import setup; setup()'\"'\"');code = f.read().replace('\"'\"'\\r\\n'\"'\"', '\"'\"'\\n'\"'\"');f.close();exec(compile(code, __file__, '\"'\"'exec'\"'\"'))' install --record /tmp/pip-record-nr43catz/install-record.txt --single-version-externally-managed --compile --install-headers /home/med/anaconda3/include/python3.9/mujoco-py\n",
      "         cwd: /tmp/pip-install-zvjbxcrr/mujoco-py_61e2cb154b8a41e0be08a6d5b1c95863/\n",
      "    Complete output (56 lines):\n",
      "    running install\n",
      "    running build\n",
      "    \n",
      "    You appear to be missing MuJoCo.  We expected to find the file here: /home/med/.mujoco/mjpro150\n",
      "    \n",
      "    This package only provides python bindings, the library must be installed separately.\n",
      "    \n",
      "    Please follow the instructions on the README to install MuJoCo\n",
      "    \n",
      "        https://github.com/openai/mujoco-py#install-mujoco\n",
      "    \n",
      "    Which can be downloaded from the website\n",
      "    \n",
      "        https://www.roboti.us/index.html\n",
      "    \n",
      "    Traceback (most recent call last):\n",
      "      File \"<string>\", line 1, in <module>\n",
      "      File \"/tmp/pip-install-zvjbxcrr/mujoco-py_61e2cb154b8a41e0be08a6d5b1c95863/setup.py\", line 32, in <module>\n",
      "        setup(\n",
      "      File \"/home/med/anaconda3/lib/python3.9/site-packages/setuptools/__init__.py\", line 153, in setup\n",
      "        return distutils.core.setup(**attrs)\n",
      "      File \"/home/med/anaconda3/lib/python3.9/distutils/core.py\", line 148, in setup\n",
      "        dist.run_commands()\n",
      "      File \"/home/med/anaconda3/lib/python3.9/distutils/dist.py\", line 966, in run_commands\n",
      "        self.run_command(cmd)\n",
      "      File \"/home/med/anaconda3/lib/python3.9/distutils/dist.py\", line 985, in run_command\n",
      "        cmd_obj.run()\n",
      "      File \"/home/med/anaconda3/lib/python3.9/site-packages/setuptools/command/install.py\", line 61, in run\n",
      "        return orig.install.run(self)\n",
      "      File \"/home/med/anaconda3/lib/python3.9/distutils/command/install.py\", line 546, in run\n",
      "        self.run_command('build')\n",
      "      File \"/home/med/anaconda3/lib/python3.9/distutils/cmd.py\", line 313, in run_command\n",
      "        self.distribution.run_command(command)\n",
      "      File \"/home/med/anaconda3/lib/python3.9/distutils/dist.py\", line 985, in run_command\n",
      "        cmd_obj.run()\n",
      "      File \"/tmp/pip-install-zvjbxcrr/mujoco-py_61e2cb154b8a41e0be08a6d5b1c95863/setup.py\", line 28, in run\n",
      "        import mujoco_py  # noqa: force build\n",
      "      File \"/tmp/pip-install-zvjbxcrr/mujoco-py_61e2cb154b8a41e0be08a6d5b1c95863/mujoco_py/__init__.py\", line 3, in <module>\n",
      "        from mujoco_py.builder import cymj, ignore_mujoco_warnings, functions, MujocoException\n",
      "      File \"/tmp/pip-install-zvjbxcrr/mujoco-py_61e2cb154b8a41e0be08a6d5b1c95863/mujoco_py/builder.py\", line 502, in <module>\n",
      "        mjpro_path, key_path = discover_mujoco()\n",
      "      File \"/tmp/pip-install-zvjbxcrr/mujoco-py_61e2cb154b8a41e0be08a6d5b1c95863/mujoco_py/utils.py\", line 93, in discover_mujoco\n",
      "        raise Exception(message)\n",
      "    Exception:\n",
      "    You appear to be missing MuJoCo.  We expected to find the file here: /home/med/.mujoco/mjpro150\n",
      "    \n",
      "    This package only provides python bindings, the library must be installed separately.\n",
      "    \n",
      "    Please follow the instructions on the README to install MuJoCo\n",
      "    \n",
      "        https://github.com/openai/mujoco-py#install-mujoco\n",
      "    \n",
      "    Which can be downloaded from the website\n",
      "    \n",
      "        https://www.roboti.us/index.html\n",
      "    \n",
      "    ----------------------------------------\u001b[0m\n",
      "\u001b[31mERROR: Command errored out with exit status 1: /home/med/anaconda3/bin/python -u -c 'import io, os, sys, setuptools, tokenize; sys.argv[0] = '\"'\"'/tmp/pip-install-zvjbxcrr/mujoco-py_61e2cb154b8a41e0be08a6d5b1c95863/setup.py'\"'\"'; __file__='\"'\"'/tmp/pip-install-zvjbxcrr/mujoco-py_61e2cb154b8a41e0be08a6d5b1c95863/setup.py'\"'\"';f = getattr(tokenize, '\"'\"'open'\"'\"', open)(__file__) if os.path.exists(__file__) else io.StringIO('\"'\"'from setuptools import setup; setup()'\"'\"');code = f.read().replace('\"'\"'\\r\\n'\"'\"', '\"'\"'\\n'\"'\"');f.close();exec(compile(code, __file__, '\"'\"'exec'\"'\"'))' install --record /tmp/pip-record-nr43catz/install-record.txt --single-version-externally-managed --compile --install-headers /home/med/anaconda3/include/python3.9/mujoco-py Check the logs for full command output.\u001b[0m\n"
     ]
    },
    {
     "name": "stdout",
     "output_type": "stream",
     "text": [
      "\u001b[?25hRequirement already satisfied: gym[Box_2D] in /home/med/anaconda3/lib/python3.9/site-packages (0.21.0)\n",
      "\u001b[33mWARNING: gym 0.21.0 does not provide the extra 'box_2d'\u001b[0m\n",
      "Requirement already satisfied: numpy>=1.18.0 in /home/med/anaconda3/lib/python3.9/site-packages (from gym[Box_2D]) (1.20.3)\n",
      "Requirement already satisfied: cloudpickle>=1.2.0 in /home/med/anaconda3/lib/python3.9/site-packages (from gym[Box_2D]) (2.0.0)\n"
     ]
    }
   ],
   "source": [
    "#!pip install Box2D gym --user\n",
    "!pip3 install Box2D\n",
    "!pip3 install box2d-py\n",
    "!pip3 install gym[all]\n",
    "!pip3 install gym[Box_2D]"
   ]
  },
  {
   "cell_type": "markdown",
   "metadata": {
    "id": "TxmJw1KInazl"
   },
   "source": [
    "## 1. Import Packages"
   ]
  },
  {
   "cell_type": "code",
   "execution_count": 1,
   "metadata": {
    "id": "D4lutyW4nazl"
   },
   "outputs": [],
   "source": [
    "import gym\n",
    "import random\n",
    "import torch\n",
    "import numpy as np\n",
    "from collections import deque\n",
    "import matplotlib.pyplot as plt\n",
    "%matplotlib inline\n",
    "\n",
    "# import the rest of the packages that you will need"
   ]
  },
  {
   "cell_type": "markdown",
   "metadata": {
    "id": "iH1Z5nG1nazn"
   },
   "source": [
    "## 2. Examine the State and Action Spaces"
   ]
  },
  {
   "cell_type": "markdown",
   "metadata": {
    "id": "i0CNx-Rdnazo"
   },
   "source": [
    "Initialize the environment"
   ]
  },
  {
   "cell_type": "code",
   "execution_count": 33,
   "metadata": {},
   "outputs": [
    {
     "name": "stdout",
     "output_type": "stream",
     "text": [
      "Collecting package metadata (current_repodata.json): done\n",
      "Solving environment: done\n",
      "\n",
      "# All requested packages already installed.\n",
      "\n",
      "\n",
      "Usage:   \n",
      "  pip install [options] <requirement specifier> [package-index-options] ...\n",
      "  pip install [options] -r <requirements file> [package-index-options] ...\n",
      "  pip install [options] [-e] <vcs project url> ...\n",
      "  pip install [options] [-e] <local project path> ...\n",
      "  pip install [options] <archive url/path> ...\n",
      "\n",
      "no such option: --y\n"
     ]
    }
   ],
   "source": [
    "!conda install  --y swig  # needed to build Box2D in the pip install\n",
    "!pip install --y box2d-py # a repackaged version of pybox2d\n",
    "#"
   ]
  },
  {
   "cell_type": "code",
   "execution_count": 35,
   "metadata": {},
   "outputs": [
    {
     "name": "stdout",
     "output_type": "stream",
     "text": [
      "Collecting stable_baselines\n",
      "  Downloading stable_baselines-2.10.2-py3-none-any.whl (240 kB)\n",
      "\u001b[K     |████████████████████████████████| 240 kB 355 kB/s eta 0:00:01\n",
      "\u001b[?25hRequirement already satisfied: gym in /home/med/anaconda3/lib/python3.9/site-packages (0.21.0)\n",
      "Requirement already satisfied: box2d-py in /home/med/anaconda3/lib/python3.9/site-packages (2.3.8)\n",
      "Requirement already satisfied: opencv-python in /home/med/anaconda3/lib/python3.9/site-packages (from stable_baselines) (4.5.5.62)\n",
      "Requirement already satisfied: joblib in /home/med/anaconda3/lib/python3.9/site-packages (from stable_baselines) (1.1.0)\n",
      "Requirement already satisfied: cloudpickle>=0.5.5 in /home/med/anaconda3/lib/python3.9/site-packages (from stable_baselines) (2.0.0)\n",
      "Requirement already satisfied: pandas in /home/med/anaconda3/lib/python3.9/site-packages (from stable_baselines) (1.3.4)\n",
      "Requirement already satisfied: numpy in /home/med/anaconda3/lib/python3.9/site-packages (from stable_baselines) (1.20.3)\n",
      "Requirement already satisfied: scipy in /home/med/anaconda3/lib/python3.9/site-packages (from stable_baselines) (1.7.1)\n",
      "Requirement already satisfied: matplotlib in /home/med/anaconda3/lib/python3.9/site-packages (from stable_baselines) (3.4.3)\n",
      "Collecting ale-py~=0.7.1\n",
      "  Using cached ale_py-0.7.3-cp39-cp39-manylinux_2_17_x86_64.manylinux2014_x86_64.whl (1.6 MB)\n",
      "Requirement already satisfied: pyglet>=1.4.0 in /home/med/anaconda3/lib/python3.9/site-packages (from gym) (1.5.21)\n",
      "Requirement already satisfied: importlib-resources in /home/med/anaconda3/lib/python3.9/site-packages (from ale-py~=0.7.1->gym) (5.4.0)\n",
      "Requirement already satisfied: zipp>=3.1.0 in /home/med/anaconda3/lib/python3.9/site-packages (from importlib-resources->ale-py~=0.7.1->gym) (3.6.0)\n",
      "Requirement already satisfied: pyparsing>=2.2.1 in /home/med/anaconda3/lib/python3.9/site-packages (from matplotlib->stable_baselines) (3.0.4)\n",
      "Requirement already satisfied: pillow>=6.2.0 in /home/med/anaconda3/lib/python3.9/site-packages (from matplotlib->stable_baselines) (8.4.0)\n",
      "Requirement already satisfied: kiwisolver>=1.0.1 in /home/med/anaconda3/lib/python3.9/site-packages (from matplotlib->stable_baselines) (1.3.1)\n",
      "Requirement already satisfied: cycler>=0.10 in /home/med/anaconda3/lib/python3.9/site-packages (from matplotlib->stable_baselines) (0.10.0)\n",
      "Requirement already satisfied: python-dateutil>=2.7 in /home/med/anaconda3/lib/python3.9/site-packages (from matplotlib->stable_baselines) (2.8.2)\n",
      "Requirement already satisfied: six in /home/med/anaconda3/lib/python3.9/site-packages (from cycler>=0.10->matplotlib->stable_baselines) (1.16.0)\n",
      "Requirement already satisfied: pytz>=2017.3 in /home/med/anaconda3/lib/python3.9/site-packages (from pandas->stable_baselines) (2021.3)\n",
      "Installing collected packages: ale-py, stable-baselines\n",
      "\u001b[33m  WARNING: The script ale-import-roms is installed in '/home/med/.local/bin' which is not on PATH.\n",
      "  Consider adding this directory to PATH or, if you prefer to suppress this warning, use --no-warn-script-location.\u001b[0m\n",
      "Successfully installed ale-py-0.7.3 stable-baselines-2.10.2\n"
     ]
    }
   ],
   "source": [
    "#!pip install stable_baselines gym box2d-py --user"
   ]
  },
  {
   "cell_type": "code",
   "execution_count": 2,
   "metadata": {
    "id": "e8KCcnmynazp",
    "outputId": "15f3d9a0-4617-474b-d1b3-946f78eea1e1"
   },
   "outputs": [
    {
     "name": "stdout",
     "output_type": "stream",
     "text": [
      "State shape:  (4,)\n",
      "Number of actions:  2\n"
     ]
    }
   ],
   "source": [
    "env = gym.make('CartPole-v0')\n",
    "env.seed(0)\n",
    "print('State shape: ', env.observation_space.shape)\n",
    "print('Number of actions: ', env.action_space.n)"
   ]
  },
  {
   "cell_type": "markdown",
   "metadata": {
    "id": "SpqQyM46nazq"
   },
   "source": [
    "## 3. Watch an untrained agent"
   ]
  },
  {
   "cell_type": "code",
   "execution_count": 29,
   "metadata": {},
   "outputs": [],
   "source": [
    "from dqn_agent import Agent\n",
    "#del agent\n",
    "agent = Agent(state_size=4, action_size=2, seed=0)"
   ]
  },
  {
   "cell_type": "code",
   "execution_count": 15,
   "metadata": {
    "id": "B0frsKADnazq"
   },
   "outputs": [
    {
     "name": "stdout",
     "output_type": "stream",
     "text": [
      "Episode:1 Score:10.0\n",
      "Episode:2 Score:14.0\n",
      "Episode:3 Score:17.0\n",
      "Episode:4 Score:31.0\n",
      "Episode:5 Score:16.0\n",
      "Episode:6 Score:15.0\n",
      "Episode:7 Score:13.0\n",
      "Episode:8 Score:19.0\n",
      "Episode:9 Score:41.0\n",
      "Episode:10 Score:27.0\n"
     ]
    }
   ],
   "source": [
    "\n",
    "\n",
    "# watch an untrained agent\n",
    "episodes = 10\n",
    "for episode in range(1, episodes+1):\n",
    "    state = env.reset()\n",
    "    done = False\n",
    "    score = 0 \n",
    "    \n",
    "    while not done:\n",
    "        env.render()\n",
    "        action = random.choice([0,1])\n",
    "        n_state, reward, done, info = env.step(action)\n",
    "        score+=reward\n",
    "    print('Episode:{} Score:{}'.format(episode, score))\n",
    "env.close()"
   ]
  },
  {
   "cell_type": "markdown",
   "metadata": {
    "id": "khF6djNYnazr"
   },
   "source": [
    "## 4. Train the Agent with DQN"
   ]
  },
  {
   "cell_type": "markdown",
   "metadata": {
    "id": "lGA-01MRnazr"
   },
   "source": [
    "Train the agent using DQN."
   ]
  },
  {
   "cell_type": "code",
   "execution_count": 30,
   "metadata": {},
   "outputs": [
    {
     "data": {
      "text/plain": [
       "array([-0.03785738, -0.00679921, -0.02786571,  0.04417225], dtype=float32)"
      ]
     },
     "execution_count": 30,
     "metadata": {},
     "output_type": "execute_result"
    }
   ],
   "source": [
    "env.reset()"
   ]
  },
  {
   "cell_type": "code",
   "execution_count": 31,
   "metadata": {
    "id": "KQYqPa9Unazr",
    "outputId": "2143ea82-a409-471c-e535-7fdd7ccb4a8c"
   },
   "outputs": [
    {
     "name": "stdout",
     "output_type": "stream",
     "text": [
      "Episode 100\tAverage Score: 17.61\n",
      "Episode 200\tAverage Score: 12.35\n",
      "Episode 300\tAverage Score: 10.97\n",
      "Episode 400\tAverage Score: 10.49\n",
      "Episode 500\tAverage Score: 9.780\n",
      "Episode 600\tAverage Score: 10.33\n",
      "Episode 700\tAverage Score: 11.12\n",
      "Episode 800\tAverage Score: 12.53\n",
      "Episode 900\tAverage Score: 14.45\n",
      "Episode 1000\tAverage Score: 136.39\n",
      "Episode 1100\tAverage Score: 189.05\n",
      "Episode 1200\tAverage Score: 190.64\n",
      "Episode 1300\tAverage Score: 192.21\n",
      "Episode 1400\tAverage Score: 190.14\n",
      "Episode 1500\tAverage Score: 190.65\n",
      "Episode 1600\tAverage Score: 187.94\n",
      "Episode 1700\tAverage Score: 181.09\n",
      "Episode 1800\tAverage Score: 180.10\n",
      "Episode 1900\tAverage Score: 178.54\n",
      "Episode 2000\tAverage Score: 181.40\n"
     ]
    }
   ],
   "source": [
    "def dqn(n_episodes=2000, max_t=200, eps_start=1.0, eps_end=0.01, eps_decay=0.995):\n",
    "    \"\"\"Deep Q-Learning.\n",
    "    \n",
    "    Params\n",
    "    ======\n",
    "        n_episodes (int): maximum number of training episodes\n",
    "        max_t (int): maximum number of timesteps per episode\n",
    "        eps_start (float): starting value of epsilon, for epsilon-greedy action selection\n",
    "        eps_end (float): minimum value of epsilon\n",
    "        eps_decay (float): multiplicative factor (per episode) for decreasing epsilon\n",
    "    \"\"\"\n",
    "    scores = []                        # list containing scores from each episode\n",
    "    scores_window = deque(maxlen=100)  # last 100 scores\n",
    "    eps = eps_start                    # initialize epsilon\n",
    "    for i_episode in range(1, n_episodes+1):\n",
    "        state = env.reset()\n",
    "        score = 0\n",
    "        done=False\n",
    "        while not done   :\n",
    "            action = agent.act(state, eps)\n",
    "            next_state, reward, done, _ = env.step(action)\n",
    "            agent.step(state, action, reward, next_state, done)\n",
    "            state = next_state\n",
    "            score += reward\n",
    "            if done:\n",
    "                break \n",
    "        scores_window.append(score)       # save most recent score\n",
    "        scores.append(score)              # save most recent score\n",
    "        eps = max(eps_end, eps_decay*eps) # decrease epsilon\n",
    "        print('\\rEpisode {}\\tAverage Score: {:.2f}'.format(i_episode, np.mean(scores_window)), end=\"\")\n",
    "        if i_episode % 100 == 0:\n",
    "            print('\\rEpisode {}\\tAverage Score: {:.2f}'.format(i_episode, np.mean(scores_window)))\n",
    "       # if np.mean(scores_window)>=200.0:\n",
    "        #    print('\\nEnvironment solved in {:d} episodes!\\tAverage Score: {:.2f}'.format(i_episode-100, np.mean(scores_window)))\n",
    "    torch.save(agent.qnetwork_local.state_dict(), 'checkpoint1.pth')\n",
    "          #  break\n",
    "\n",
    "    return scores\n",
    "\n",
    "scores = dqn()"
   ]
  },
  {
   "cell_type": "markdown",
   "metadata": {
    "id": "45_ueFPQnazs"
   },
   "source": [
    "## 5. Plot the results"
   ]
  },
  {
   "cell_type": "markdown",
   "metadata": {
    "id": "C0D-5GEJnazs"
   },
   "source": [
    "Plot the obtained scores from the DQN agent."
   ]
  },
  {
   "cell_type": "code",
   "execution_count": 32,
   "metadata": {
    "id": "v1AYWCe1nazs",
    "outputId": "1fbfb8b9-7226-4c06-9a1a-df30b312e0d9"
   },
   "outputs": [
    {
     "data": {
      "image/png": "[encoded data removed]",
      "text/plain": [
       "<Figure size 432x288 with 1 Axes>"
      ]
     },
     "metadata": {
      "needs_background": "light"
     },
     "output_type": "display_data"
    }
   ],
   "source": [
    "# plot the scores\n",
    "fig = plt.figure()\n",
    "ax = fig.add_subplot(111)\n",
    "plt.plot(np.arange(len(scores)), scores)\n",
    "plt.ylabel('Score')\n",
    "plt.xlabel('Episode #')\n",
    "plt.show()"
   ]
  },
  {
   "cell_type": "markdown",
   "metadata": {
    "id": "ubQkgxUXnazt"
   },
   "source": [
    "## 6. Watch your trained agent!"
   ]
  },
  {
   "cell_type": "code",
   "execution_count": 33,
   "metadata": {
    "id": "VBx7eWHznazt",
    "outputId": "cfc9ac31-32d2-41ae-c566-cb3350591e75"
   },
   "outputs": [
    {
     "name": "stdout",
     "output_type": "stream",
     "text": [
      "ep:  1 reard:  200.0\n",
      "ep:  2 reard:  200.0\n",
      "ep:  3 reard:  200.0\n",
      "ep:  4 reard:  200.0\n",
      "ep:  5 reard:  200.0\n",
      "ep:  6 reard:  200.0\n",
      "ep:  7 reard:  200.0\n",
      "ep:  8 reard:  200.0\n",
      "ep:  9 reard:  200.0\n",
      "ep:  10 reard:  200.0\n",
      "ep:  11 reard:  200.0\n",
      "ep:  12 reard:  200.0\n",
      "ep:  13 reard:  200.0\n",
      "ep:  14 reard:  200.0\n",
      "ep:  15 reard:  200.0\n",
      "ep:  16 reard:  200.0\n",
      "ep:  17 reard:  200.0\n",
      "ep:  18 reard:  200.0\n",
      "ep:  19 reard:  200.0\n",
      "ep:  20 reard:  200.0\n",
      "ep:  21 reard:  200.0\n",
      "ep:  22 reard:  200.0\n",
      "ep:  23 reard:  200.0\n",
      "ep:  24 reard:  200.0\n",
      "ep:  25 reard:  200.0\n",
      "ep:  26 reard:  200.0\n",
      "ep:  27 reard:  200.0\n",
      "ep:  28 reard:  200.0\n",
      "ep:  29 reard:  200.0\n",
      "ep:  30 reard:  200.0\n",
      "ep:  31 reard:  200.0\n",
      "ep:  32 reard:  200.0\n",
      "ep:  33 reard:  200.0\n",
      "ep:  34 reard:  200.0\n",
      "ep:  35 reard:  200.0\n",
      "ep:  36 reard:  200.0\n",
      "ep:  37 reard:  200.0\n",
      "ep:  38 reard:  200.0\n",
      "ep:  39 reard:  200.0\n",
      "ep:  40 reard:  200.0\n",
      "ep:  41 reard:  200.0\n",
      "ep:  42 reard:  200.0\n",
      "ep:  43 reard:  200.0\n",
      "ep:  44 reard:  200.0\n",
      "ep:  45 reard:  200.0\n",
      "ep:  46 reard:  200.0\n",
      "ep:  47 reard:  200.0\n",
      "ep:  48 reard:  200.0\n",
      "ep:  49 reard:  200.0\n",
      "ep:  50 reard:  200.0\n",
      "ep:  51 reard:  200.0\n",
      "ep:  52 reard:  200.0\n",
      "ep:  53 reard:  200.0\n",
      "ep:  54 reard:  200.0\n",
      "ep:  55 reard:  200.0\n",
      "ep:  56 reard:  200.0\n",
      "ep:  57 reard:  200.0\n",
      "ep:  58 reard:  200.0\n",
      "ep:  59 reard:  200.0\n",
      "ep:  60 reard:  200.0\n",
      "ep:  61 reard:  200.0\n",
      "ep:  62 reard:  200.0\n",
      "ep:  63 reard:  200.0\n",
      "ep:  64 reard:  200.0\n",
      "ep:  65 reard:  200.0\n",
      "ep:  66 reard:  200.0\n",
      "ep:  67 reard:  200.0\n",
      "ep:  68 reard:  200.0\n",
      "ep:  69 reard:  200.0\n",
      "ep:  70 reard:  200.0\n",
      "ep:  71 reard:  200.0\n",
      "ep:  72 reard:  200.0\n",
      "ep:  73 reard:  200.0\n",
      "ep:  74 reard:  200.0\n",
      "ep:  75 reard:  200.0\n",
      "ep:  76 reard:  200.0\n",
      "ep:  77 reard:  200.0\n",
      "ep:  78 reard:  200.0\n",
      "ep:  79 reard:  200.0\n",
      "ep:  80 reard:  200.0\n",
      "ep:  81 reard:  200.0\n",
      "ep:  82 reard:  200.0\n",
      "ep:  83 reard:  200.0\n",
      "ep:  84 reard:  200.0\n",
      "ep:  85 reard:  200.0\n",
      "ep:  86 reard:  200.0\n",
      "ep:  87 reard:  200.0\n",
      "ep:  88 reard:  200.0\n",
      "ep:  89 reard:  200.0\n",
      "ep:  90 reard:  200.0\n",
      "ep:  91 reard:  200.0\n",
      "ep:  92 reard:  200.0\n",
      "ep:  93 reard:  200.0\n",
      "ep:  94 reard:  200.0\n",
      "ep:  95 reard:  200.0\n",
      "ep:  96 reard:  200.0\n",
      "ep:  97 reard:  200.0\n",
      "ep:  98 reard:  200.0\n",
      "ep:  99 reard:  200.0\n",
      "ep:  100 reard:  200.0\n"
     ]
    },
    {
     "data": {
      "image/png": "[encoded data removed]",
      "text/plain": [
       "<Figure size 432x288 with 1 Axes>"
      ]
     },
     "metadata": {
      "needs_background": "light"
     },
     "output_type": "display_data"
    }
   ],
   "source": [
    "# load the weights from file\n",
    "agent.qnetwork_local.load_state_dict(torch.load('checkpoint1.pth'))\n",
    "score=0\n",
    "for i in range(100):\n",
    "    state = env.reset()\n",
    "    img = plt.imshow(env.render(mode='rgb_array'))\n",
    "    for j in range(500):\n",
    "        action = agent.act(state)\n",
    "        img.set_data(env.render(mode='rgb_array')) \n",
    "        plt.axis('off')\n",
    "        state, reward, done, _ = env.step(action)\n",
    "        score+=reward\n",
    "        if done:\n",
    "            break\n",
    "    print('ep: ',i+1,\"reard: \",score)\n",
    "    score=0\n",
    "            \n",
    "            \n",
    "env.close()"
   ]
  },
  {
   "cell_type": "code",
   "execution_count": 4,
   "metadata": {},
   "outputs": [],
   "source": [
    "from dqn_agent import Duel_Agent\n",
    "\n",
    "duel_agent = Duel_Agent(state_size=4, action_size=2, seed=0)"
   ]
  },
  {
   "cell_type": "code",
   "execution_count": 26,
   "metadata": {
    "id": "kKA5VkOAnazt"
   },
   "outputs": [
    {
     "name": "stdout",
     "output_type": "stream",
     "text": [
      "Episode 100\tAverage Score: 37.05\n",
      "Episode 200\tAverage Score: 125.70\n",
      "Episode 300\tAverage Score: 189.79\n",
      "Episode 400\tAverage Score: 197.74\n",
      "Episode 500\tAverage Score: 197.59\n",
      "Episode 600\tAverage Score: 197.13\n",
      "Episode 700\tAverage Score: 196.93\n",
      "Episode 800\tAverage Score: 198.89\n",
      "Episode 900\tAverage Score: 198.43\n",
      "Episode 1000\tAverage Score: 198.26\n",
      "Episode 1100\tAverage Score: 191.54\n",
      "Episode 1200\tAverage Score: 190.43\n",
      "Episode 1300\tAverage Score: 194.79\n",
      "Episode 1400\tAverage Score: 192.89\n",
      "Episode 1500\tAverage Score: 195.42\n",
      "Episode 1600\tAverage Score: 196.03\n",
      "Episode 1700\tAverage Score: 196.49\n",
      "Episode 1800\tAverage Score: 197.45\n",
      "Episode 1900\tAverage Score: 197.49\n",
      "Episode 2000\tAverage Score: 197.69\n"
     ]
    }
   ],
   "source": [
    "def duel_dqn(n_episodes=2000, max_t=200, eps_start=1.0, eps_end=0.01, eps_decay=0.995):\n",
    "    \"\"\"Deep Q-Learning.\n",
    "    \n",
    "    Params\n",
    "    ======\n",
    "        n_episodes (int): maximum number of training episodes\n",
    "        max_t (int): maximum number of timesteps per episode\n",
    "        eps_start (float): starting value of epsilon, for epsilon-greedy action selection\n",
    "        eps_end (float): minimum value of epsilon\n",
    "        eps_decay (float): multiplicative factor (per episode) for decreasing epsilon\n",
    "    \"\"\"\n",
    "    scores = []                        # list containing scores from each episode\n",
    "    scores_window = deque(maxlen=100)  # last 100 scores\n",
    "    eps = eps_start                    # initialize epsilon\n",
    "    for i_episode in range(1, n_episodes+1):\n",
    "        state = env.reset()\n",
    "        score = 0\n",
    "        done=False\n",
    "        for i in range (max_t)  :\n",
    "            action = duel_agent.act(state, eps)\n",
    "            next_state, reward, done, _ = env.step(action)\n",
    "            duel_agent.step(state, action, reward, next_state, done)\n",
    "            state = next_state\n",
    "            score += reward\n",
    "            if done:\n",
    "                break \n",
    "        scores_window.append(score)       # save most recent score\n",
    "        scores.append(score)              # save most recent score\n",
    "        eps = max(eps_end, eps_decay*eps) # decrease epsilon\n",
    "        print('\\rEpisode {}\\tAverage Score: {:.2f}'.format(i_episode, np.mean(scores_window)), end=\"\")\n",
    "        if i_episode % 100 == 0:\n",
    "            print('\\rEpisode {}\\tAverage Score: {:.2f}'.format(i_episode, np.mean(scores_window)))\n",
    "       # if np.mean(scores_window)>=200.0:\n",
    "        #    print('\\nEnvironment solved in {:d} episodes!\\tAverage Score: {:.2f}'.format(i_episode-100, np.mean(scores_window)))\n",
    "    torch.save(duel_agent.qnetwork_local.state_dict(), 'dual_dqn_checkpoint.pth')\n",
    "          #  break\n",
    "    return scores\n",
    "\n",
    "duel_scores = duel_dqn()"
   ]
  },
  {
   "cell_type": "code",
   "execution_count": 27,
   "metadata": {},
   "outputs": [
    {
     "data": {
      "image/png": "[encoded data removed]",
      "text/plain": [
       "<Figure size 432x288 with 1 Axes>"
      ]
     },
     "metadata": {
      "needs_background": "light"
     },
     "output_type": "display_data"
    }
   ],
   "source": [
    "# plot the scores\n",
    "fig = plt.figure()\n",
    "ax = fig.add_subplot(111)\n",
    "plt.plot(np.arange(len(duel_scores)), duel_scores)\n",
    "plt.ylabel('Score')\n",
    "plt.xlabel('Episode #')\n",
    "plt.show()"
   ]
  },
  {
   "cell_type": "code",
   "execution_count": 28,
   "metadata": {},
   "outputs": [
    {
     "name": "stdout",
     "output_type": "stream",
     "text": [
      "ep:  1 reard:  200.0\n",
      "ep:  2 reard:  200.0\n",
      "ep:  3 reard:  200.0\n",
      "ep:  4 reard:  200.0\n",
      "ep:  5 reard:  200.0\n",
      "ep:  6 reard:  200.0\n",
      "ep:  7 reard:  200.0\n",
      "ep:  8 reard:  200.0\n",
      "ep:  9 reard:  200.0\n",
      "ep:  10 reard:  200.0\n",
      "ep:  11 reard:  200.0\n",
      "ep:  12 reard:  200.0\n",
      "ep:  13 reard:  200.0\n",
      "ep:  14 reard:  200.0\n",
      "ep:  15 reard:  200.0\n",
      "ep:  16 reard:  200.0\n",
      "ep:  17 reard:  200.0\n",
      "ep:  18 reard:  200.0\n",
      "ep:  19 reard:  200.0\n",
      "ep:  20 reard:  200.0\n",
      "ep:  21 reard:  200.0\n",
      "ep:  22 reard:  200.0\n",
      "ep:  23 reard:  200.0\n",
      "ep:  24 reard:  200.0\n",
      "ep:  25 reard:  200.0\n",
      "ep:  26 reard:  200.0\n",
      "ep:  27 reard:  200.0\n",
      "ep:  28 reard:  200.0\n",
      "ep:  29 reard:  200.0\n",
      "ep:  30 reard:  200.0\n",
      "ep:  31 reard:  200.0\n",
      "ep:  32 reard:  200.0\n",
      "ep:  33 reard:  200.0\n",
      "ep:  34 reard:  200.0\n",
      "ep:  35 reard:  200.0\n",
      "ep:  36 reard:  200.0\n",
      "ep:  37 reard:  200.0\n",
      "ep:  38 reard:  200.0\n",
      "ep:  39 reard:  200.0\n",
      "ep:  40 reard:  200.0\n",
      "ep:  41 reard:  200.0\n",
      "ep:  42 reard:  200.0\n",
      "ep:  43 reard:  200.0\n",
      "ep:  44 reard:  200.0\n",
      "ep:  45 reard:  200.0\n",
      "ep:  46 reard:  200.0\n",
      "ep:  47 reard:  200.0\n",
      "ep:  48 reard:  200.0\n",
      "ep:  49 reard:  200.0\n",
      "ep:  50 reard:  200.0\n",
      "ep:  51 reard:  200.0\n",
      "ep:  52 reard:  200.0\n",
      "ep:  53 reard:  200.0\n",
      "ep:  54 reard:  200.0\n",
      "ep:  55 reard:  200.0\n",
      "ep:  56 reard:  200.0\n",
      "ep:  57 reard:  200.0\n",
      "ep:  58 reard:  200.0\n",
      "ep:  59 reard:  200.0\n",
      "ep:  60 reard:  200.0\n",
      "ep:  61 reard:  200.0\n",
      "ep:  62 reard:  200.0\n",
      "ep:  63 reard:  200.0\n",
      "ep:  64 reard:  200.0\n",
      "ep:  65 reard:  200.0\n",
      "ep:  66 reard:  200.0\n",
      "ep:  67 reard:  200.0\n",
      "ep:  68 reard:  200.0\n",
      "ep:  69 reard:  200.0\n",
      "ep:  70 reard:  200.0\n",
      "ep:  71 reard:  200.0\n",
      "ep:  72 reard:  200.0\n",
      "ep:  73 reard:  200.0\n",
      "ep:  74 reard:  200.0\n",
      "ep:  75 reard:  200.0\n",
      "ep:  76 reard:  200.0\n",
      "ep:  77 reard:  200.0\n",
      "ep:  78 reard:  200.0\n",
      "ep:  79 reard:  200.0\n",
      "ep:  80 reard:  200.0\n",
      "ep:  81 reard:  200.0\n",
      "ep:  82 reard:  200.0\n",
      "ep:  83 reard:  200.0\n",
      "ep:  84 reard:  200.0\n",
      "ep:  85 reard:  200.0\n",
      "ep:  86 reard:  200.0\n",
      "ep:  87 reard:  200.0\n",
      "ep:  88 reard:  200.0\n",
      "ep:  89 reard:  200.0\n",
      "ep:  90 reard:  200.0\n",
      "ep:  91 reard:  200.0\n",
      "ep:  92 reard:  200.0\n",
      "ep:  93 reard:  200.0\n",
      "ep:  94 reard:  200.0\n",
      "ep:  95 reard:  200.0\n",
      "ep:  96 reard:  200.0\n",
      "ep:  97 reard:  200.0\n",
      "ep:  98 reard:  200.0\n",
      "ep:  99 reard:  200.0\n",
      "ep:  100 reard:  200.0\n"
     ]
    },
    {
     "data": {
      "image/png": "[encoded data removed]",
      "text/plain": [
       "<Figure size 432x288 with 1 Axes>"
      ]
     },
     "metadata": {
      "needs_background": "light"
     },
     "output_type": "display_data"
    }
   ],
   "source": [
    "# load the weights from file\n",
    "duel_agent.qnetwork_local.load_state_dict(torch.load('dual_dqn_checkpoint.pth'))\n",
    "score=0\n",
    "for i in range(100):\n",
    "    state = env.reset()\n",
    "    img = plt.imshow(env.render(mode='rgb_array'))\n",
    "    for j in range(500):\n",
    "        action = duel_agent.act(state)\n",
    "        img.set_data(env.render(mode='rgb_array')) \n",
    "        plt.axis('off')\n",
    "        state, reward, done, _ = env.step(action)\n",
    "        score+=reward\n",
    "        if done:\n",
    "            break\n",
    "    print('ep: ',i+1,\"reard: \",score)\n",
    "    score=0\n",
    "            \n",
    "            \n",
    "env.close()"
   ]
  },
  {
   "cell_type": "code",
   "execution_count": null,
   "metadata": {},
   "outputs": [],
   "source": []
  }
 ],
 "metadata": {
  "colab": {
   "collapsed_sections": [],
   "name": "DQN.ipynb",
   "provenance": []
  },
  "kernelspec": {
   "display_name": "Python 3 (ipykernel)",
   "language": "python",
   "name": "python3"
  },
  "language_info": {
   "codemirror_mode": {
    "name": "ipython",
    "version": 3
   },
   "file_extension": ".py",
   "mimetype": "text/x-python",
   "name": "python",
   "nbconvert_exporter": "python",
   "pygments_lexer": "ipython3",
   "version": "3.9.7"
  }
 },
 "nbformat": 4,
 "nbformat_minor": 1
}
